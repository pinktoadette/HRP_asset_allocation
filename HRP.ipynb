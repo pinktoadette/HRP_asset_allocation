{
 "cells": [
  {
   "cell_type": "markdown",
   "metadata": {},
   "source": [
    "# HRP Asset Allocation\n",
    "\n",
    "This notebook is to look at HRP implementation."
   ]
  },
  {
   "cell_type": "code",
   "execution_count": 93,
   "metadata": {},
   "outputs": [],
   "source": [
    "import numpy as np\n",
    "import pandas as pd\n",
    "import matplotlib.pyplot as plt\n",
    "from scipy.cluster.hierarchy import linkage\n",
    "from scipy.linalg import block_diag\n",
    "\n",
    "import seaborn as sns"
   ]
  },
  {
   "cell_type": "markdown",
   "metadata": {},
   "source": [
    "### Retrive Data"
   ]
  },
  {
   "cell_type": "code",
   "execution_count": 94,
   "metadata": {},
   "outputs": [],
   "source": [
    "from ipynb.fs.full.get_data import Data\n",
    "# Not in notebook, but I created a class to help me retrieve and format data from quandl\n",
    "start_date = '2016-01-01'\n",
    "end_date = '2018-01-01'\n",
    "symbols = ['AMZN', 'AAPL', 'GOOG', 'FB','JPM','GS']\n",
    "\n",
    "df = pd.DataFrame()\n",
    "df_list = []\n",
    "for symbol in symbols:\n",
    "    quandl= Data('', start_date, end_date).get_data(symbol)\n",
    "    quandl['Returns'] = quandl['Close'].pct_change()\n",
    "    df = quandl[['Symbol','Date','Close','Returns']]\n",
    "    df_list.append(df)\n",
    "df = pd.concat(df_list)\n",
    "df.dropna(inplace=True)"
   ]
  },
  {
   "cell_type": "code",
   "execution_count": 95,
   "metadata": {},
   "outputs": [],
   "source": [
    "def plot_matrix(element,labels=None):\n",
    "    ax = sns.heatmap(element, cmap=\"YlGnBu\")\n",
    "    plt.show()\n"
   ]
  },
  {
   "cell_type": "code",
   "execution_count": 96,
   "metadata": {
    "scrolled": false
   },
   "outputs": [
    {
     "data": {
      "image/png": "[encoded data removed]",
      "text/plain": [
       "<Figure size 432x288 with 2 Axes>"
      ]
     },
     "metadata": {
      "needs_background": "light"
     },
     "output_type": "display_data"
    }
   ],
   "source": [
    "df_group = df.pivot('Date','Symbol')['Returns']\n",
    "corr, cov = df_group.corr(), df_group.cov()\n",
    "plot_matrix(corr, labels=df[['Symbol']])"
   ]
  },
  {
   "cell_type": "code",
   "execution_count": 97,
   "metadata": {
    "scrolled": false
   },
   "outputs": [
    {
     "data": {
      "image/png": "[encoded data removed]",
      "text/plain": [
       "<Figure size 432x288 with 2 Axes>"
      ]
     },
     "metadata": {
      "needs_background": "light"
     },
     "output_type": "display_data"
    }
   ],
   "source": [
    "# EDA on distance\n",
    "dist = correlation_distance(corr)\n",
    "plot_matrix(dist)"
   ]
  },
  {
   "cell_type": "markdown",
   "metadata": {},
   "source": [
    "### Updating the cluster\n",
    "Updates the cluster by adding new unclustered item.\n",
    "Would find the `min[di,j]`\n",
    "\n",
    "The matrix is updated by adding the min and removing the cluster columns and rows.\n",
    "It'll stop when all the cluster is found"
   ]
  },
  {
   "cell_type": "code",
   "execution_count": 98,
   "metadata": {},
   "outputs": [],
   "source": [
    "def inverse_var_weights(cov):\n",
    "    '''\n",
    "    calc the inverse variance to min var of the weighted avg.\n",
    "    '''\n",
    "    inverse_var = 1./np.diag(cov)\n",
    "    return inverse_var /inverse_var.sum()"
   ]
  },
  {
   "cell_type": "code",
   "execution_count": 84,
   "metadata": {},
   "outputs": [],
   "source": [
    "def cluster_var_port(cov, items):\n",
    "    \"\"\"\n",
    "    select the cov pairs and get their inverse var weight, then cluster\n",
    "    \"\"\"\n",
    "    cov_sel = cov.loc[items, items]\n",
    "    w = inverse_var_weights(cov_sel).reshape(-1,1)\n",
    "    cluster_var = np.dot((w.T@cov_sel), w)[0,0]\n",
    "    return cluster_var"
   ]
  },
  {
   "cell_type": "markdown",
   "metadata": {},
   "source": [
    "### Quasi Diagonal\n",
    "Quasi diagonal will end up with the largest value along the diagonal.\n",
    "* Each row of linkage merges two branches into one\n",
    "We replace clusters recursively until no clusters remain"
   ]
  },
  {
   "cell_type": "code",
   "execution_count": 85,
   "metadata": {},
   "outputs": [],
   "source": [
    "def quasi_diagonal(link):\n",
    "    '''\n",
    "    sort cluster by distance. This allow similar investments to be placed together.\n",
    "    Distributing weights optimally by using inverse-variance allocation.\n",
    "    '''\n",
    "    link = link.astype(int)\n",
    "    sort_idx = pd.Series([link[-1,0], link[-1,1]])\n",
    "    num_items = link[-1,3]\n",
    "    while sort_idx.max() >= num_items:\n",
    "        sort_idx.index = range(0, sort_idx.shape[0]*2,2)\n",
    "        df = sort_idx[sort_idx >= num_items]\n",
    "        i = df.index\n",
    "        j = df.values - num_items\n",
    "        sort_idx[i] = link[j,0]\n",
    "        df = pd.Series(link[j,1], index=i+1)\n",
    "        sort_idx = sort_idx.append(df)\n",
    "        sort_idx.index = range(sort_idx.sort_index().shape[0])\n",
    "    return sort_idx.tolist()"
   ]
  },
  {
   "cell_type": "markdown",
   "metadata": {},
   "source": [
    "### Recursive bisect\n",
    "* get a list of cluster items\n",
    "* assign weight to all items at w(n) =1\n",
    "* if len L is 1, then it stops\n",
    "* If not, then it bisects two groups, where one is preserved and the other is 1/2|L|\n",
    "* alpha is the split factor for the pairs weight"
   ]
  },
  {
   "cell_type": "code",
   "execution_count": 100,
   "metadata": {},
   "outputs": [],
   "source": [
    "def recursive_bisec(cov, sort_idx):\n",
    "    \"\"\"\n",
    "    allocation is based on cluster covriance. Obtains the cluster using bisectional method.\n",
    "    Each bisection is weighted by inverse variance\n",
    "    \"\"\"\n",
    "    w = pd.Series(1, index=sort_idx)\n",
    "    cluster_items = [sort_idx]\n",
    "    while len(cluster_items) > 0 :\n",
    "        # bisection, one is preserved, the other half length\n",
    "        cluster_items = [i[j:k] for i in cluster_items for j,k in ((0, len(i)//2), (len(i)//2, len(i))) if len(i)>1]\n",
    "        \n",
    "        #creates the pairs\n",
    "        for i in range(0, len(cluster_items), 2):\n",
    "            cluster_1, cluster_2 = cluster_items[i], cluster_items[i+1]\n",
    "            cluster_var1, cluster_var2 = cluster_var_port(cov, cluster_1), cluster_var_port(cov, cluster_2)\n",
    "            alpha = 1- cluster_var1/(cluster_var1+cluster_var2)\n",
    "            w[cluster_1] *= alpha \n",
    "            w[cluster_2] *= 1-alpha\n",
    "    return w"
   ]
  },
  {
   "attachments": {
    "distance.PNG": {
     "image/png": "[encoded data removed]"
    }
   },
   "cell_type": "markdown",
   "metadata": {},
   "source": [
    "Calculate the distance of the correlation matrix D(i,j)\n",
    "\n",
    "![distance.PNG](attachment:distance.PNG)"
   ]
  },
  {
   "cell_type": "code",
   "execution_count": 101,
   "metadata": {},
   "outputs": [],
   "source": [
    "def correlation_distance(corr):\n",
    "    return ((1-corr)*0.5)**0.5"
   ]
  },
  {
   "cell_type": "markdown",
   "metadata": {},
   "source": [
    "### Run HRP"
   ]
  },
  {
   "cell_type": "code",
   "execution_count": 102,
   "metadata": {},
   "outputs": [
    {
     "name": "stderr",
     "output_type": "stream",
     "text": [
      "c:\\users\\lynnj\\appdata\\local\\programs\\python\\python37\\lib\\site-packages\\ipykernel_launcher.py:3: ClusterWarning: scipy.cluster: The symmetric non-negative hollow observation matrix looks suspiciously like an uncondensed distance matrix\n",
      "  This is separate from the ipykernel package so we can avoid doing imports until\n"
     ]
    },
    {
     "data": {
      "text/plain": [
       "AAPL    0.173706\n",
       "AMZN    0.162861\n",
       "FB      0.119123\n",
       "GOOG    0.193439\n",
       "GS      0.175023\n",
       "JPM     0.175849\n",
       "dtype: float64"
      ]
     },
     "execution_count": 102,
     "metadata": {},
     "output_type": "execute_result"
    }
   ],
   "source": [
    "# scipy linkage defaults to euclidean distance, method of single\n",
    "# where single-linkage cluster combines two clusters that contain the closest pair\n",
    "group = linkage(dist)\n",
    "sort_index = quasi_diagonal(group)\n",
    "sort_index = corr.index[sort_index].tolist()\n",
    "df = corr.loc[sort_index, sort_index]\n",
    "\n",
    "#allocation\n",
    "x = recursive_bisec(cov, sort_index)\n",
    "x.sort_index()"
   ]
  },
  {
   "cell_type": "code",
   "execution_count": null,
   "metadata": {},
   "outputs": [],
   "source": []
  }
 ],
 "metadata": {
  "kernelspec": {
   "display_name": "Python 3",
   "language": "python",
   "name": "python3"
  },
  "language_info": {
   "codemirror_mode": {
    "name": "ipython",
    "version": 3
   },
   "file_extension": ".py",
   "mimetype": "text/x-python",
   "name": "python",
   "nbconvert_exporter": "python",
   "pygments_lexer": "ipython3",
   "version": "3.7.7"
  }
 },
 "nbformat": 4,
 "nbformat_minor": 2
}
